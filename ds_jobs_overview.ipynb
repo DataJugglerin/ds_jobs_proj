{
 "cells": [
  {
   "cell_type": "markdown",
   "id": "afa3bf50",
   "metadata": {},
   "source": [
    "# Project 1: Data Science and Analyst jobs in Austria analysis and prediction\n",
    "\n",
    "- date started: 29 March 2024\n",
    "\n",
    "## Project Overview (idea)\n",
    "- Find and scrape data jobs from karriere.at and save to csv format\n",
    "- Clean data with Pandas\n",
    "- Feature engineering\n",
    "- Exploratory data analysis using matplotlib and seaborn\n",
    "- Create a dashboard using Tableau\n",
    "- Train a regression and decision tree model to predict salary\n",
    "\n",
    "## Why?\n",
    "\n",
    "## Code and Resources\n",
    "-\n",
    "- https://github.com/PlayingNumbers/ds_salary_proj/tree/master\n",
    "\n"
   ]
  },
  {
   "cell_type": "markdown",
   "id": "66745762",
   "metadata": {},
   "source": [
    "## Data Science Salary Estimator: Project Overview\n",
    "- Created a tool that estimates data science salaries (MAE ~ $ 11K) to help data scientists negotiate their income when they get a job.\n",
    "- Scraped over 1000 job descriptions from glassdoor using python and selenium\n",
    "- Engineered features from the text of each job description to quantify the value companies put on python, excel, aws, and spark.\n",
    "- Optimized Linear, Lasso, and Random Forest Regressors using GridsearchCV to reach the best model.\n",
    "Built a client facing API using flask\n",
    "\n",
    "## Code and Resources Used\n",
    "- Python Version: 3.7\n",
    "- Packages: pandas, numpy, sklearn, matplotlib, seaborn, selenium, flask, json, pickle\n",
    "- For Web Framework Requirements: pip install -r requirements.txt\n",
    "- Scraper Github: https://github.com/arapfaik/scraping-glassdoor-selenium\n",
    "- Scraper Article: https://towardsdatascience.com/selenium-tutorial-scraping-glassdoor-com-in-10-minutes-3d0915c6d905\n",
    "- Flask Productionization: https://towardsdatascience.com/productionize-a-machine-learning-model-with-flask-and-heroku-8201260503d2\n"
   ]
  }
 ],
 "metadata": {
  "kernelspec": {
   "display_name": "Python 3 (ipykernel)",
   "language": "python",
   "name": "python3"
  },
  "language_info": {
   "codemirror_mode": {
    "name": "ipython",
    "version": 3
   },
   "file_extension": ".py",
   "mimetype": "text/x-python",
   "name": "python",
   "nbconvert_exporter": "python",
   "pygments_lexer": "ipython3",
   "version": "3.9.7"
  }
 },
 "nbformat": 4,
 "nbformat_minor": 5
}
